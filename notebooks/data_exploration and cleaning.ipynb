{
 "cells": [
  {
   "cell_type": "code",
   "execution_count": 17,
   "metadata": {
    "collapsed": true
   },
   "outputs": [],
   "source": [
    "import json\n",
    "import pandas as pd\n",
    "import os"
   ]
  },
  {
   "cell_type": "markdown",
   "source": [
    "## Loading data from json and export it in csv"
   ],
   "metadata": {
    "collapsed": false
   }
  },
  {
   "cell_type": "code",
   "execution_count": 19,
   "outputs": [],
   "source": [
    "# noinspection JupyterPackage\n",
    "DATA_FILE = '..\\\\data\\\\raw\\\\us_train_data_final_OFFICIAL.jsonl'\n",
    "TRAIN_FINAL_DATA_FILE = '..\\\\data\\\\raw\\\\train_data.csv'"
   ],
   "metadata": {
    "collapsed": false,
    "pycharm": {
     "name": "#%%\n"
    }
   }
  },
  {
   "cell_type": "code",
   "execution_count": 14,
   "outputs": [],
   "source": [
    "#open the file and get the data in a list\n",
    "data = []\n",
    "with open(DATA_FILE) as f:\n",
    "    for line in f:\n",
    "        data.append(json.loads(line))"
   ],
   "metadata": {
    "collapsed": false,
    "pycharm": {
     "name": "#%%\n"
    }
   }
  },
  {
   "cell_type": "code",
   "execution_count": 18,
   "outputs": [
    {
     "data": {
      "text/plain": "                                                text  \\\n0  SECTION 1. LIABILITY OF BUSINESS ENTITIES PROV...   \n1  SECTION 1. SHORT TITLE.\\n\\n    This Act may be...   \n2  SECTION 1. SHORT TITLE.\\n\\n    This Act may be...   \n3  SECTION 1. NONRECOGNITION OF GAIN WHERE ROLLOV...   \n4  SECTION 1. SHORT TITLE.\\n\\n    This Act may be...   \n\n                                             summary     bill_id  \\\n0  Shields a business entity from civil liability...    106_s845   \n1  Human Rights Information Act - Requires certai...  106_hr1625   \n2  Jackie Robinson Commemorative Coin Act - Direc...  104_hr4148   \n3  Amends the Internal Revenue Code to provide (t...  105_hr2252   \n4  Native American Energy Act - (Sec. 3) Amends t...  113_hr1548   \n\n                                               title  text_len  sum_len  \n0  A bill to limit the civil liability of busines...      5026     1561  \n1                       Human Rights Information Act     19094     1317  \n2             Jackie Robinson Commemorative Coin Act     11013      473  \n3  To amend the Internal Revenue Code to provide ...     10745      162  \n4                         Native American Energy Act     18047     4462  ",
      "text/html": "<div>\n<style scoped>\n    .dataframe tbody tr th:only-of-type {\n        vertical-align: middle;\n    }\n\n    .dataframe tbody tr th {\n        vertical-align: top;\n    }\n\n    .dataframe thead th {\n        text-align: right;\n    }\n</style>\n<table border=\"1\" class=\"dataframe\">\n  <thead>\n    <tr style=\"text-align: right;\">\n      <th></th>\n      <th>text</th>\n      <th>summary</th>\n      <th>bill_id</th>\n      <th>title</th>\n      <th>text_len</th>\n      <th>sum_len</th>\n    </tr>\n  </thead>\n  <tbody>\n    <tr>\n      <th>0</th>\n      <td>SECTION 1. LIABILITY OF BUSINESS ENTITIES PROV...</td>\n      <td>Shields a business entity from civil liability...</td>\n      <td>106_s845</td>\n      <td>A bill to limit the civil liability of busines...</td>\n      <td>5026</td>\n      <td>1561</td>\n    </tr>\n    <tr>\n      <th>1</th>\n      <td>SECTION 1. SHORT TITLE.\\n\\n    This Act may be...</td>\n      <td>Human Rights Information Act - Requires certai...</td>\n      <td>106_hr1625</td>\n      <td>Human Rights Information Act</td>\n      <td>19094</td>\n      <td>1317</td>\n    </tr>\n    <tr>\n      <th>2</th>\n      <td>SECTION 1. SHORT TITLE.\\n\\n    This Act may be...</td>\n      <td>Jackie Robinson Commemorative Coin Act - Direc...</td>\n      <td>104_hr4148</td>\n      <td>Jackie Robinson Commemorative Coin Act</td>\n      <td>11013</td>\n      <td>473</td>\n    </tr>\n    <tr>\n      <th>3</th>\n      <td>SECTION 1. NONRECOGNITION OF GAIN WHERE ROLLOV...</td>\n      <td>Amends the Internal Revenue Code to provide (t...</td>\n      <td>105_hr2252</td>\n      <td>To amend the Internal Revenue Code to provide ...</td>\n      <td>10745</td>\n      <td>162</td>\n    </tr>\n    <tr>\n      <th>4</th>\n      <td>SECTION 1. SHORT TITLE.\\n\\n    This Act may be...</td>\n      <td>Native American Energy Act - (Sec. 3) Amends t...</td>\n      <td>113_hr1548</td>\n      <td>Native American Energy Act</td>\n      <td>18047</td>\n      <td>4462</td>\n    </tr>\n  </tbody>\n</table>\n</div>"
     },
     "execution_count": 18,
     "metadata": {},
     "output_type": "execute_result"
    }
   ],
   "source": [
    "#convert list data to dataframe\n",
    "df = pd.DataFrame(data)\n",
    "df.head()"
   ],
   "metadata": {
    "collapsed": false,
    "pycharm": {
     "name": "#%%\n"
    }
   }
  },
  {
   "cell_type": "code",
   "execution_count": 20,
   "outputs": [],
   "source": [
    "#export to csv\n",
    "df.to_csv(TRAIN_FINAL_DATA_FILE)"
   ],
   "metadata": {
    "collapsed": false,
    "pycharm": {
     "name": "#%%\n"
    }
   }
  },
  {
   "cell_type": "markdown",
   "source": [
    "## Clean and process data\n"
   ],
   "metadata": {
    "collapsed": false,
    "pycharm": {
     "name": "#%% md\n"
    }
   }
  }
 ],
 "metadata": {
  "kernelspec": {
   "name": "pycharm-142e979d",
   "language": "python",
   "display_name": "PyCharm (legaltextsummarizer)"
  },
  "language_info": {
   "codemirror_mode": {
    "name": "ipython",
    "version": 2
   },
   "file_extension": ".py",
   "mimetype": "text/x-python",
   "name": "python",
   "nbconvert_exporter": "python",
   "pygments_lexer": "ipython2",
   "version": "2.7.6"
  }
 },
 "nbformat": 4,
 "nbformat_minor": 0
}